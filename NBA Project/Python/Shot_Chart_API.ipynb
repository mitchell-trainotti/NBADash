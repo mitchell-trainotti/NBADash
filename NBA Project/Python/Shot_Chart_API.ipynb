{
 "cells": [
  {
   "cell_type": "code",
   "execution_count": null,
   "id": "11662807",
   "metadata": {},
   "outputs": [],
   "source": [
    "# Making the Request"
   ]
  },
  {
   "cell_type": "code",
   "execution_count": 5,
   "id": "77f2496e",
   "metadata": {},
   "outputs": [],
   "source": [
    "import requests\n",
    "import json\n",
    "import pandas as pd\n",
    "\n",
    "url_base = 'https://stats.nba.com/stats/shotchartdetail'\n",
    "\n",
    "headers = {\n",
    "\t\t'Host': 'stats.nba.com',\n",
    "\t\t'Connection': 'keep-alive',\n",
    "\t\t'Accept': 'application/json, text/plain, */*',\n",
    "\t\t'User-Agent': 'Mozilla/5.0 (Windows NT 10.0; Win64; x64) AppleWebKit/537.36 (KHTML, like Gecko) Chrome/79.0.3945.130 Safari/537.36',\n",
    "\t\t'Referer': 'https://stats.nba.com/',\n",
    "\t\t\"x-nba-stats-origin\": \"stats\",\n",
    "\t\t\"x-nba-stats-token\": \"true\",\n",
    "\t\t'Accept-Encoding': 'gzip, deflate, br',\n",
    "\t\t'Accept-Language': 'en-US,en;q=0.9',\n",
    "\t}\n",
    "\n",
    "parameters = {\n",
    "\t'ContextMeasure': 'FGA',\n",
    "\t'LastNGames': 0,\n",
    "\t'LeagueID': '00',\n",
    "\t'Month': 0,\n",
    "\t'OpponentTeamID': 0,\n",
    "\t'Period': 0,\n",
    "\t'PlayerID': 201939,\n",
    "\t'SeasonType': 'Regular Season',\n",
    "\t'TeamID': 0,\n",
    "\t'VsDivision': '',\n",
    "\t'VsConference': '',\n",
    "\t'SeasonSegment': '',\n",
    "\t'Season': '2021-22',\n",
    "\t'RookieYear': '',\n",
    "\t'PlayerPosition': '',\n",
    "\t'Outcome': '',\n",
    "\t'Location': '',\n",
    "\t'GameSegment': '',\n",
    "\t'GameId': '',\n",
    "\t'DateTo': '',\n",
    "\t'DateFrom': ''\n",
    "}\n",
    "\n",
    "\n",
    "response = requests.get(url_base, params=parameters, headers=headers)\n",
    "content = json.loads(response.content)"
   ]
  },
  {
   "cell_type": "code",
   "execution_count": null,
   "id": "1a8107cc",
   "metadata": {},
   "outputs": [],
   "source": [
    "# Editing the request"
   ]
  },
  {
   "cell_type": "code",
   "execution_count": 26,
   "id": "e2be6242",
   "metadata": {},
   "outputs": [],
   "source": [
    "content['resultSets']\n",
    "\n",
    "shotChart = pd.DataFrame(content['resultSets'][0]['rowSet'])\n",
    "columnNames =         ['GRID_TYPE',\n",
    "                       'GAME_ID',\n",
    "                       'GAME_EVENT_ID',\n",
    "                       'PLAYER_ID',\n",
    "                       'PLAYER_NAME',\n",
    "                       'TEAM_ID',\n",
    "                       'TEAM_NAME',\n",
    "                       'PERIOD',\n",
    "                       'MINUTES_REMAINING',\n",
    "                       'SECONDS_REMAINING',\n",
    "                       'EVENT_TYPE',\n",
    "                       'ACTION_TYPE',\n",
    "                       'SHOT_TYPE',\n",
    "                       'SHOT_ZONE_BASIC',\n",
    "                       'SHOT_ZONE_AREA',\n",
    "                       'SHOT_ZONE_RANGE',\n",
    "                       'SHOT_DISTANCE',\n",
    "                       'LOC_X',\n",
    "                       'LOC_Y',\n",
    "                       'SHOT_ATTEMPTED_FLAG',\n",
    "                       'SHOT_MADE_FLAG',\n",
    "                       'GAME_DATE',\n",
    "                       'HTM',\n",
    "                       'VTM']\n",
    "\n",
    "shotChart.columns = columnNames\n",
    "\n",
    "shotChart.to_excel('3shotChart.xlsx')"
   ]
  }
 ],
 "metadata": {
  "kernelspec": {
   "display_name": "Python 3",
   "language": "python",
   "name": "python3"
  },
  "language_info": {
   "codemirror_mode": {
    "name": "ipython",
    "version": 3
   },
   "file_extension": ".py",
   "mimetype": "text/x-python",
   "name": "python",
   "nbconvert_exporter": "python",
   "pygments_lexer": "ipython3",
   "version": "3.6.3"
  }
 },
 "nbformat": 4,
 "nbformat_minor": 5
}
