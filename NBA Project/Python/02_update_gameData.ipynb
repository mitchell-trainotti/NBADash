{
 "cells": [
  {
   "cell_type": "code",
   "execution_count": 1,
   "id": "e25a4850",
   "metadata": {},
   "outputs": [],
   "source": [
    "import requests\n",
    "import json\n",
    "import pandas as pd\n",
    "import time\n",
    "start_time = time.time()"
   ]
  },
  {
   "cell_type": "code",
   "execution_count": 2,
   "id": "31b5b73e",
   "metadata": {},
   "outputs": [
    {
     "name": "stdout",
     "output_type": "stream",
     "text": [
      "C:/Users/mitchtrainotti/Documents/NBA Project/Data/01gameRecord.xlsx\n"
     ]
    }
   ],
   "source": [
    "path = 'C:/Users/mitchtrainotti/Documents/NBA Project/Data/'\n",
    "\n",
    "gameRecordName = '01gameRecord.xlsx'\n",
    "gameDataName = '02gameData.xlsx'\n",
    "\n",
    "gf = path + gameRecordName\n",
    "\n",
    "print(gf)\n",
    "\n",
    "gamefile = pd.read_excel(gf, engine = 'openpyxl')"
   ]
  },
  {
   "cell_type": "code",
   "execution_count": 3,
   "id": "abd7ad55",
   "metadata": {},
   "outputs": [],
   "source": [
    "outputCols = ['game_id',\n",
    "             'game_date',\n",
    "             'opponent',\n",
    "             'first_name',\n",
    "             'last_name',\n",
    "             'jersey_number',\n",
    "             'person_id',\n",
    "             'position_short',\n",
    "             'position_full',\n",
    "             'minutes',\n",
    "             'seconds',\n",
    "             'points',\n",
    "             'field_goals_made',\n",
    "             'field_goals_attempted',\n",
    "             'player_code',\n",
    "             'free_throws_made',\n",
    "             'free_throws_attempted',\n",
    "             'three_pointers_made',\n",
    "             'three_pointers_attempted',\n",
    "             'rebounds_offensive',\n",
    "             'rebounds_defensive',\n",
    "             'assists',\n",
    "             'fouls',\n",
    "             'steals',\n",
    "             'turnovers',\n",
    "             'team_turnovers',\n",
    "             'blocks',\n",
    "             'plus_minus',\n",
    "             'on_court',\n",
    "             'starting_position']"
   ]
  },
  {
   "cell_type": "code",
   "execution_count": 4,
   "id": "2eb82bae",
   "metadata": {},
   "outputs": [],
   "source": [
    "boxscoreDB=pd.DataFrame(columns = outputCols)"
   ]
  },
  {
   "cell_type": "code",
   "execution_count": 5,
   "id": "946fdd6c",
   "metadata": {},
   "outputs": [
    {
     "name": "stdout",
     "output_type": "stream",
     "text": [
      "http://data.nba.net/json/cms/noseason/game/20220410/0022101225/boxscore.json\n",
      "http://data.nba.net/json/cms/noseason/game/20220409/0022101215/boxscore.json\n",
      "http://data.nba.net/json/cms/noseason/game/20220407/0022101202/boxscore.json\n",
      "http://data.nba.net/json/cms/noseason/game/20220403/0022101176/boxscore.json\n",
      "http://data.nba.net/json/cms/noseason/game/20220402/0022101165/boxscore.json\n",
      "http://data.nba.net/json/cms/noseason/game/20220330/0022101145/boxscore.json\n",
      "http://data.nba.net/json/cms/noseason/game/20220328/0022101129/boxscore.json\n",
      "http://data.nba.net/json/cms/noseason/game/20220327/0022101117/boxscore.json\n",
      "http://data.nba.net/json/cms/noseason/game/20220325/0022101102/boxscore.json\n",
      "http://data.nba.net/json/cms/noseason/game/20220323/0022101088/boxscore.json\n",
      "http://data.nba.net/json/cms/noseason/game/20220322/0022101080/boxscore.json\n",
      "http://data.nba.net/json/cms/noseason/game/20220320/0022101070/boxscore.json\n",
      "http://data.nba.net/json/cms/noseason/game/20220316/0022101042/boxscore.json\n",
      "http://data.nba.net/json/cms/noseason/game/20220314/0022101025/boxscore.json\n",
      "http://data.nba.net/json/cms/noseason/game/20220312/0022101008/boxscore.json\n",
      "http://data.nba.net/json/cms/noseason/game/20220310/0022100994/boxscore.json\n",
      "http://data.nba.net/json/cms/noseason/game/20220308/0022100980/boxscore.json\n",
      "http://data.nba.net/json/cms/noseason/game/20220307/0022100528/boxscore.json\n",
      "http://data.nba.net/json/cms/noseason/game/20220305/0022100959/boxscore.json\n",
      "http://data.nba.net/json/cms/noseason/game/20220303/0022100943/boxscore.json\n",
      "http://data.nba.net/json/cms/noseason/game/20220301/0022100930/boxscore.json\n",
      "http://data.nba.net/json/cms/noseason/game/20220227/0022100917/boxscore.json\n",
      "http://data.nba.net/json/cms/noseason/game/20220224/0022100894/boxscore.json\n",
      "http://data.nba.net/json/cms/noseason/game/20220216/0022100883/boxscore.json\n",
      "http://data.nba.net/json/cms/noseason/game/20220214/0022100866/boxscore.json\n",
      "http://data.nba.net/json/cms/noseason/game/20220212/0022100854/boxscore.json\n",
      "http://data.nba.net/json/cms/noseason/game/20220210/0022100837/boxscore.json\n",
      "http://data.nba.net/json/cms/noseason/game/20220209/0022100828/boxscore.json\n",
      "http://data.nba.net/json/cms/noseason/game/20220207/0022100813/boxscore.json\n",
      "http://data.nba.net/json/cms/noseason/game/20220203/0022100785/boxscore.json\n",
      "http://data.nba.net/json/cms/noseason/game/20220201/0022100771/boxscore.json\n",
      "http://data.nba.net/json/cms/noseason/game/20220131/0022100764/boxscore.json\n",
      "http://data.nba.net/json/cms/noseason/game/20220129/0022100750/boxscore.json\n",
      "http://data.nba.net/json/cms/noseason/game/20220127/0022100734/boxscore.json\n",
      "http://data.nba.net/json/cms/noseason/game/20220125/0022100720/boxscore.json\n",
      "http://data.nba.net/json/cms/noseason/game/20220123/0022100708/boxscore.json\n",
      "http://data.nba.net/json/cms/noseason/game/20220121/0022100694/boxscore.json\n",
      "http://data.nba.net/json/cms/noseason/game/20220120/0022100683/boxscore.json\n",
      "http://data.nba.net/json/cms/noseason/game/20220118/0022100667/boxscore.json\n",
      "http://data.nba.net/json/cms/noseason/game/20220116/0022100652/boxscore.json\n",
      "http://data.nba.net/json/cms/noseason/game/20220114/0022100637/boxscore.json\n",
      "http://data.nba.net/json/cms/noseason/game/20220113/0022100627/boxscore.json\n",
      "http://data.nba.net/json/cms/noseason/game/20220111/0022100614/boxscore.json\n",
      "http://data.nba.net/json/cms/noseason/game/20220109/0022100604/boxscore.json\n",
      "http://data.nba.net/json/cms/noseason/game/20220106/0022100580/boxscore.json\n",
      "http://data.nba.net/json/cms/noseason/game/20220105/0022100572/boxscore.json\n",
      "http://data.nba.net/json/cms/noseason/game/20220103/0022100559/boxscore.json\n",
      "http://data.nba.net/json/cms/noseason/game/20220101/0022100544/boxscore.json\n",
      "http://data.nba.net/json/cms/noseason/game/20211228/0022100514/boxscore.json\n",
      "http://data.nba.net/json/cms/noseason/game/20211225/0022100490/boxscore.json\n",
      "http://data.nba.net/json/cms/noseason/game/20211223/0022100485/boxscore.json\n",
      "http://data.nba.net/json/cms/noseason/game/20211220/0022100462/boxscore.json\n",
      "http://data.nba.net/json/cms/noseason/game/20211218/0022100443/boxscore.json\n",
      "http://data.nba.net/json/cms/noseason/game/20211217/0022100435/boxscore.json\n",
      "http://data.nba.net/json/cms/noseason/game/20211214/0022100414/boxscore.json\n",
      "http://data.nba.net/json/cms/noseason/game/20211213/0022100405/boxscore.json\n",
      "http://data.nba.net/json/cms/noseason/game/20211211/0022100396/boxscore.json\n",
      "http://data.nba.net/json/cms/noseason/game/20211208/0022100376/boxscore.json\n",
      "http://data.nba.net/json/cms/noseason/game/20211206/0022100361/boxscore.json\n",
      "http://data.nba.net/json/cms/noseason/game/20211204/0022100346/boxscore.json\n",
      "http://data.nba.net/json/cms/noseason/game/20211203/0022100340/boxscore.json\n",
      "http://data.nba.net/json/cms/noseason/game/20211130/0022100316/boxscore.json\n",
      "http://data.nba.net/json/cms/noseason/game/20211128/0022100300/boxscore.json\n",
      "http://data.nba.net/json/cms/noseason/game/20211126/0022100290/boxscore.json\n",
      "http://data.nba.net/json/cms/noseason/game/20211124/0022100278/boxscore.json\n",
      "http://data.nba.net/json/cms/noseason/game/20211121/0022100252/boxscore.json\n",
      "http://data.nba.net/json/cms/noseason/game/20211119/0022100231/boxscore.json\n",
      "http://data.nba.net/json/cms/noseason/game/20211118/0022100224/boxscore.json\n",
      "http://data.nba.net/json/cms/noseason/game/20211116/0022100210/boxscore.json\n",
      "http://data.nba.net/json/cms/noseason/game/20211114/0022100194/boxscore.json\n",
      "http://data.nba.net/json/cms/noseason/game/20211112/0022100183/boxscore.json\n",
      "http://data.nba.net/json/cms/noseason/game/20211110/0022100169/boxscore.json\n",
      "http://data.nba.net/json/cms/noseason/game/20211108/0022100152/boxscore.json\n",
      "http://data.nba.net/json/cms/noseason/game/20211107/0022100145/boxscore.json\n",
      "http://data.nba.net/json/cms/noseason/game/20211105/0022100130/boxscore.json\n",
      "http://data.nba.net/json/cms/noseason/game/20211103/0022100117/boxscore.json\n",
      "http://data.nba.net/json/cms/noseason/game/20211030/0022100086/boxscore.json\n",
      "http://data.nba.net/json/cms/noseason/game/20211028/0022100070/boxscore.json\n",
      "http://data.nba.net/json/cms/noseason/game/20211026/0022100051/boxscore.json\n",
      "http://data.nba.net/json/cms/noseason/game/20211024/0022100039/boxscore.json\n",
      "http://data.nba.net/json/cms/noseason/game/20211021/0022100016/boxscore.json\n",
      "http://data.nba.net/json/cms/noseason/game/20211019/0022100002/boxscore.json\n"
     ]
    }
   ],
   "source": [
    "for index, game in gamefile.iterrows():\n",
    "    date_id = str(game['GAME_DATE'])\n",
    "    date_id = date_id.replace('-','')\n",
    "    game_id = str(game['GAME_ID'])\n",
    "    game_id = '00'+game_id\n",
    "    \n",
    "    if(game['homeFlag']):\n",
    "        homeFlag = 'home'\n",
    "    else:\n",
    "        homeFlag = 'visitor'\n",
    "\n",
    "    url_base = 'http://data.nba.net/json/cms/noseason/game/' + date_id + '/' + game_id +'/boxscore.json'\n",
    "    print(url_base)\n",
    "    headers = {}\n",
    "    parameters = {}\n",
    "    response = requests.get(url_base, params=parameters, headers=headers)\n",
    "    content = json.loads(response.content)\n",
    "\n",
    "    gameDF = content['sports_content']['game'][homeFlag]['players']['player']\n",
    "    pdgameDF = pd.DataFrame(gameDF)\n",
    "    pdgameDF['game_id'] = game_id\n",
    "    pdgameDF['opponent'] = game['MATCHUP'][-3:]\n",
    "    pdgameDF['game_date'] = date_id\n",
    "    boxscoreDB = boxscoreDB.append(pdgameDF)"
   ]
  },
  {
   "cell_type": "code",
   "execution_count": 6,
   "id": "8564cfd5",
   "metadata": {},
   "outputs": [
    {
     "name": "stdout",
     "output_type": "stream",
     "text": [
      "--- 18.087616205215454 seconds ---\n"
     ]
    }
   ],
   "source": [
    "newPath = path + gameDataName\n",
    "writer = pd.ExcelWriter(newPath, engine = 'xlsxwriter')\n",
    "boxscoreDB.to_excel(writer, \"Sheet1\")\n",
    "writer.save()\n",
    "\n",
    "print(\"--- %s seconds ---\" % (time.time() - start_time))"
   ]
  },
  {
   "cell_type": "code",
   "execution_count": null,
   "id": "042acec1",
   "metadata": {},
   "outputs": [],
   "source": []
  }
 ],
 "metadata": {
  "kernelspec": {
   "display_name": "Python 3",
   "language": "python",
   "name": "python3"
  },
  "language_info": {
   "codemirror_mode": {
    "name": "ipython",
    "version": 3
   },
   "file_extension": ".py",
   "mimetype": "text/x-python",
   "name": "python",
   "nbconvert_exporter": "python",
   "pygments_lexer": "ipython3",
   "version": "3.6.3"
  }
 },
 "nbformat": 4,
 "nbformat_minor": 5
}
